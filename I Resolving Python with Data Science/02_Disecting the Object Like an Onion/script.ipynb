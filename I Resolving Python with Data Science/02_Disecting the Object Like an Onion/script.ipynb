{
 "cells": [
  {
   "cell_type": "markdown",
   "id": "84fd1586-58bd-4be8-ae35-ca75f9d958b0",
   "metadata": {},
   "source": [
    "# How to Access the `items` of an `Object`"
   ]
  },
  {
   "cell_type": "markdown",
   "id": "6c21d472-76bc-499a-bd07-338bf72350e4",
   "metadata": {},
   "source": [
    "## The `list`"
   ]
  },
  {
   "cell_type": "markdown",
   "id": "5ab63a44-c14a-42e0-abba-4c7312ce86a0",
   "metadata": {},
   "source": [
    "> - [ ] Create a `list` of your best friends"
   ]
  },
  {
   "cell_type": "code",
   "execution_count": 136,
   "id": "184755cc-867e-4c8c-9e11-4296eeac141f",
   "metadata": {},
   "outputs": [],
   "source": [
    "lista_bf = ['maria', 'pepe', 'alberto']"
   ]
  },
  {
   "cell_type": "markdown",
   "id": "77a25ba8-dd4a-48a2-90ce-dc76e3d17b20",
   "metadata": {},
   "source": [
    "> - [ ] Access the 2nd element ↓"
   ]
  },
  {
   "cell_type": "code",
   "execution_count": 137,
   "id": "fcb9c3de-ba47-4bcd-800b-d1aeb99801c2",
   "metadata": {},
   "outputs": [
    {
     "data": {
      "text/plain": [
       "'pepe'"
      ]
     },
     "execution_count": 137,
     "metadata": {},
     "output_type": "execute_result"
    }
   ],
   "source": [
    "lista_bf[1]"
   ]
  },
  {
   "cell_type": "markdown",
   "id": "144e0890-65c5-457a-b828-62a783d90504",
   "metadata": {},
   "source": [
    "## The `dict`"
   ]
  },
  {
   "cell_type": "markdown",
   "id": "f874c721-9669-49b7-8a2e-80f459dd6d6f",
   "metadata": {},
   "source": [
    "> - [ ] Create a `dict` of your best friends"
   ]
  },
  {
   "cell_type": "code",
   "execution_count": 138,
   "id": "0086bff4-e5c4-46c8-9b53-995439b7328c",
   "metadata": {},
   "outputs": [],
   "source": [
    "diccionario_bf = {'primera': 'maria', 'segundo': 'pepe', 'tercero': 'alberto'}"
   ]
  },
  {
   "cell_type": "markdown",
   "id": "8f126557-96f2-44c0-a1a9-a39583f84be2",
   "metadata": {},
   "source": [
    "> - [ ] Access the 2nd element ↓"
   ]
  },
  {
   "cell_type": "code",
   "execution_count": 139,
   "id": "3488bb85-d2e4-4237-96e6-6f87335a8ecf",
   "metadata": {},
   "outputs": [
    {
     "ename": "KeyError",
     "evalue": "1",
     "output_type": "error",
     "traceback": [
      "\u001b[0;31m---------------------------------------------------------------------------\u001b[0m",
      "\u001b[0;31mKeyError\u001b[0m                                  Traceback (most recent call last)",
      "\u001b[0;32m/var/folders/24/tg28vxls25l9mjvqrnh0plc80000gn/T/ipykernel_21267/637862609.py\u001b[0m in \u001b[0;36m<module>\u001b[0;34m\u001b[0m\n\u001b[0;32m----> 1\u001b[0;31m \u001b[0mdiccionario_bf\u001b[0m\u001b[0;34m[\u001b[0m\u001b[0;36m1\u001b[0m\u001b[0;34m]\u001b[0m\u001b[0;34m\u001b[0m\u001b[0;34m\u001b[0m\u001b[0m\n\u001b[0m",
      "\u001b[0;31mKeyError\u001b[0m: 1"
     ]
    }
   ],
   "source": [
    "diccionario_bf[1]"
   ]
  },
  {
   "cell_type": "code",
   "execution_count": 140,
   "id": "c1f788c7-fa53-4a21-8aa9-5da36678e13f",
   "metadata": {},
   "outputs": [
    {
     "data": {
      "text/plain": [
       "dict_keys(['primera', 'segundo', 'tercero'])"
      ]
     },
     "execution_count": 140,
     "metadata": {},
     "output_type": "execute_result"
    }
   ],
   "source": [
    "diccionario_bf.keys()"
   ]
  },
  {
   "cell_type": "code",
   "execution_count": 141,
   "id": "38f1ed49-e548-4ceb-8837-ac9b890ee3ee",
   "metadata": {},
   "outputs": [
    {
     "data": {
      "text/plain": [
       "'pepe'"
      ]
     },
     "execution_count": 141,
     "metadata": {},
     "output_type": "execute_result"
    }
   ],
   "source": [
    "diccionario_bf['segundo']"
   ]
  },
  {
   "cell_type": "markdown",
   "id": "8b342bb8-cb9b-4356-8b15-9b8aab92faa1",
   "metadata": {},
   "source": [
    "## The `DataFrame`"
   ]
  },
  {
   "cell_type": "markdown",
   "id": "8842dd83-d128-4ee5-8c12-c02dc984dada",
   "metadata": {},
   "source": [
    "> - [ ] Create a `dict` with your best **friend's personal data**"
   ]
  },
  {
   "cell_type": "code",
   "execution_count": 142,
   "id": "177798b4-ad94-4aa9-867f-9a996d68610d",
   "metadata": {},
   "outputs": [],
   "source": [
    "maria = {\n",
    "    'altura': 1.78,\n",
    "    'peso': 54,\n",
    "    'edad': 18\n",
    "}"
   ]
  },
  {
   "cell_type": "code",
   "execution_count": 143,
   "id": "274f288b-b756-4b2d-8d3c-d7e542280047",
   "metadata": {},
   "outputs": [
    {
     "data": {
      "text/plain": [
       "18"
      ]
     },
     "execution_count": 143,
     "metadata": {},
     "output_type": "execute_result"
    }
   ],
   "source": [
    "maria['edad']"
   ]
  },
  {
   "cell_type": "markdown",
   "id": "41067453-a14a-45ec-9e5c-c950cb553ace",
   "metadata": {},
   "source": [
    "> - [ ] Create a `dict` with your second best **friend's personal data**"
   ]
  },
  {
   "cell_type": "code",
   "execution_count": 144,
   "id": "35cd3c5c-4d07-4574-96ac-ab6b1d8ae202",
   "metadata": {},
   "outputs": [],
   "source": [
    "juan = {\n",
    "        'altura': 1.87,\n",
    "        'peso': 76,\n",
    "        'edad': 24\n",
    "    }"
   ]
  },
  {
   "cell_type": "code",
   "execution_count": 145,
   "id": "351f67d4-bea4-4e30-9dcf-8e95c27ac1e0",
   "metadata": {},
   "outputs": [
    {
     "data": {
      "text/plain": [
       "24"
      ]
     },
     "execution_count": 145,
     "metadata": {},
     "output_type": "execute_result"
    }
   ],
   "source": [
    "juan['edad']"
   ]
  },
  {
   "cell_type": "markdown",
   "id": "ced9c1b8-413d-44ea-8894-2f33d9e8ec6d",
   "metadata": {},
   "source": [
    "> - [ ] Create a `nested dict` with your **3 best friends' personal data**"
   ]
  },
  {
   "cell_type": "code",
   "execution_count": 146,
   "id": "4612aae2-c5c4-4eb0-b095-013e68e8b7ec",
   "metadata": {},
   "outputs": [],
   "source": [
    "diccionario_bf = {\n",
    "    'maria': {\n",
    "        'altura': 1.78,\n",
    "        'peso': 54,\n",
    "        'edad': 18\n",
    "    },\n",
    "    'juan': {\n",
    "        'altura': 1.87,\n",
    "        'peso': 76,\n",
    "        'edad': 24\n",
    "    },\n",
    "    'pepe': {\n",
    "        'altura': 1.84,\n",
    "        'peso': 94,\n",
    "        'edad': 33\n",
    "    }\n",
    "}"
   ]
  },
  {
   "cell_type": "code",
   "execution_count": 147,
   "id": "13c96a61-2e4d-4297-b1ce-9babe4481435",
   "metadata": {},
   "outputs": [
    {
     "data": {
      "text/plain": [
       "{'maria': {'altura': 1.78, 'peso': 54, 'edad': 18},\n",
       " 'juan': {'altura': 1.87, 'peso': 76, 'edad': 24},\n",
       " 'pepe': {'altura': 1.84, 'peso': 94, 'edad': 33}}"
      ]
     },
     "execution_count": 147,
     "metadata": {},
     "output_type": "execute_result"
    }
   ],
   "source": [
    "diccionario_bf"
   ]
  },
  {
   "cell_type": "markdown",
   "id": "8b224109-6e2d-4a16-9bc1-72bd59056d78",
   "metadata": {},
   "source": [
    "> - [ ] Access the `age` of your `2nd best friend`"
   ]
  },
  {
   "cell_type": "code",
   "execution_count": 148,
   "id": "7d28e095-3669-4702-a62c-8021d1501930",
   "metadata": {},
   "outputs": [
    {
     "data": {
      "text/plain": [
       "{'altura': 1.84, 'peso': 94, 'edad': 33}"
      ]
     },
     "execution_count": 148,
     "metadata": {},
     "output_type": "execute_result"
    }
   ],
   "source": [
    "diccionario_bf['pepe']"
   ]
  },
  {
   "cell_type": "code",
   "execution_count": 149,
   "id": "15ef39e1-1d9e-4d52-bc23-252ca7e40049",
   "metadata": {},
   "outputs": [
    {
     "data": {
      "text/plain": [
       "94"
      ]
     },
     "execution_count": 149,
     "metadata": {},
     "output_type": "execute_result"
    }
   ],
   "source": [
    "diccionario_bf['pepe']['peso']"
   ]
  },
  {
   "cell_type": "markdown",
   "id": "0b728260-b4e6-41c9-8cd0-e3a654c80025",
   "metadata": {},
   "source": [
    "> - [ ] Convert the `dict` to a `DataFrame`"
   ]
  },
  {
   "cell_type": "code",
   "execution_count": 150,
   "id": "55273368-bca8-463a-a6c7-df8871c9a532",
   "metadata": {},
   "outputs": [
    {
     "data": {
      "text/plain": [
       "{'maria': {'altura': 1.78, 'peso': 54, 'edad': 18},\n",
       " 'juan': {'altura': 1.87, 'peso': 76, 'edad': 24},\n",
       " 'pepe': {'altura': 1.84, 'peso': 94, 'edad': 33}}"
      ]
     },
     "execution_count": 150,
     "metadata": {},
     "output_type": "execute_result"
    }
   ],
   "source": [
    "diccionario_bf"
   ]
  },
  {
   "cell_type": "code",
   "execution_count": 151,
   "id": "262730a4-940c-4bf1-8936-3bc06928f338",
   "metadata": {},
   "outputs": [],
   "source": [
    "df = pd.DataFrame(diccionario_bf)"
   ]
  },
  {
   "cell_type": "code",
   "execution_count": 152,
   "id": "9fee8b60-67b0-456c-a97c-5cbd69796c60",
   "metadata": {},
   "outputs": [
    {
     "data": {
      "text/html": [
       "<div>\n",
       "<style scoped>\n",
       "    .dataframe tbody tr th:only-of-type {\n",
       "        vertical-align: middle;\n",
       "    }\n",
       "\n",
       "    .dataframe tbody tr th {\n",
       "        vertical-align: top;\n",
       "    }\n",
       "\n",
       "    .dataframe thead th {\n",
       "        text-align: right;\n",
       "    }\n",
       "</style>\n",
       "<table border=\"1\" class=\"dataframe\">\n",
       "  <thead>\n",
       "    <tr style=\"text-align: right;\">\n",
       "      <th></th>\n",
       "      <th>maria</th>\n",
       "      <th>juan</th>\n",
       "      <th>pepe</th>\n",
       "    </tr>\n",
       "  </thead>\n",
       "  <tbody>\n",
       "    <tr>\n",
       "      <th>altura</th>\n",
       "      <td>1.78</td>\n",
       "      <td>1.87</td>\n",
       "      <td>1.84</td>\n",
       "    </tr>\n",
       "    <tr>\n",
       "      <th>peso</th>\n",
       "      <td>54.00</td>\n",
       "      <td>76.00</td>\n",
       "      <td>94.00</td>\n",
       "    </tr>\n",
       "    <tr>\n",
       "      <th>edad</th>\n",
       "      <td>18.00</td>\n",
       "      <td>24.00</td>\n",
       "      <td>33.00</td>\n",
       "    </tr>\n",
       "  </tbody>\n",
       "</table>\n",
       "</div>"
      ],
      "text/plain": [
       "        maria   juan   pepe\n",
       "altura   1.78   1.87   1.84\n",
       "peso    54.00  76.00  94.00\n",
       "edad    18.00  24.00  33.00"
      ]
     },
     "execution_count": 152,
     "metadata": {},
     "output_type": "execute_result"
    }
   ],
   "source": [
    "df"
   ]
  },
  {
   "cell_type": "markdown",
   "id": "7f53735d-0530-416f-b8cb-cb5ada74e367",
   "metadata": {},
   "source": [
    "- [ ] Access the `age` of your `2nd best friend`"
   ]
  },
  {
   "cell_type": "code",
   "execution_count": 153,
   "id": "e06618bc-2050-4071-bbe4-8bef7a6ebe3b",
   "metadata": {},
   "outputs": [
    {
     "data": {
      "text/plain": [
       "altura     1.84\n",
       "peso      94.00\n",
       "edad      33.00\n",
       "Name: pepe, dtype: float64"
      ]
     },
     "execution_count": 153,
     "metadata": {},
     "output_type": "execute_result"
    }
   ],
   "source": [
    "df['pepe']"
   ]
  },
  {
   "cell_type": "code",
   "execution_count": 154,
   "id": "94bead13-f5e7-43d8-81a6-2364bad0800e",
   "metadata": {},
   "outputs": [
    {
     "data": {
      "text/plain": [
       "33.0"
      ]
     },
     "execution_count": 154,
     "metadata": {},
     "output_type": "execute_result"
    }
   ],
   "source": [
    "df['pepe']['edad']"
   ]
  },
  {
   "cell_type": "code",
   "execution_count": null,
   "id": "305da2fb-15bf-4221-bdaa-bb5b39253dee",
   "metadata": {},
   "outputs": [],
   "source": []
  },
  {
   "cell_type": "markdown",
   "id": "2c1bbf85-554e-441f-8777-4705947271d9",
   "metadata": {},
   "source": [
    "> - What would have happened if the `DataFrame` looks like this ↓"
   ]
  },
  {
   "cell_type": "code",
   "execution_count": 173,
   "id": "0c82f726-555a-4597-8bc5-103b7a853871",
   "metadata": {},
   "outputs": [
    {
     "data": {
      "text/html": [
       "<div>\n",
       "<style scoped>\n",
       "    .dataframe tbody tr th:only-of-type {\n",
       "        vertical-align: middle;\n",
       "    }\n",
       "\n",
       "    .dataframe tbody tr th {\n",
       "        vertical-align: top;\n",
       "    }\n",
       "\n",
       "    .dataframe thead th {\n",
       "        text-align: right;\n",
       "    }\n",
       "</style>\n",
       "<table border=\"1\" class=\"dataframe\">\n",
       "  <thead>\n",
       "    <tr style=\"text-align: right;\">\n",
       "      <th></th>\n",
       "      <th>altura</th>\n",
       "      <th>peso</th>\n",
       "      <th>edad</th>\n",
       "    </tr>\n",
       "  </thead>\n",
       "  <tbody>\n",
       "    <tr>\n",
       "      <th>maria</th>\n",
       "      <td>1.78</td>\n",
       "      <td>54.0</td>\n",
       "      <td>18.0</td>\n",
       "    </tr>\n",
       "    <tr>\n",
       "      <th>juan</th>\n",
       "      <td>1.87</td>\n",
       "      <td>76.0</td>\n",
       "      <td>24.0</td>\n",
       "    </tr>\n",
       "    <tr>\n",
       "      <th>pepe</th>\n",
       "      <td>1.84</td>\n",
       "      <td>94.0</td>\n",
       "      <td>33.0</td>\n",
       "    </tr>\n",
       "  </tbody>\n",
       "</table>\n",
       "</div>"
      ],
      "text/plain": [
       "       altura  peso  edad\n",
       "maria    1.78  54.0  18.0\n",
       "juan     1.87  76.0  24.0\n",
       "pepe     1.84  94.0  33.0"
      ]
     },
     "execution_count": 173,
     "metadata": {},
     "output_type": "execute_result"
    }
   ],
   "source": [
    "df = df.transpose() #!\n",
    "df"
   ]
  },
  {
   "cell_type": "code",
   "execution_count": 174,
   "id": "3f5de2f6-140e-4437-8d66-0e266c81a4f0",
   "metadata": {},
   "outputs": [
    {
     "ename": "KeyError",
     "evalue": "'pepe'",
     "output_type": "error",
     "traceback": [
      "\u001b[0;31m---------------------------------------------------------------------------\u001b[0m",
      "\u001b[0;31mKeyError\u001b[0m                                  Traceback (most recent call last)",
      "\u001b[0;32m~/miniforge3/lib/python3.9/site-packages/pandas/core/indexes/base.py\u001b[0m in \u001b[0;36mget_loc\u001b[0;34m(self, key, method, tolerance)\u001b[0m\n\u001b[1;32m   3360\u001b[0m             \u001b[0;32mtry\u001b[0m\u001b[0;34m:\u001b[0m\u001b[0;34m\u001b[0m\u001b[0;34m\u001b[0m\u001b[0m\n\u001b[0;32m-> 3361\u001b[0;31m                 \u001b[0;32mreturn\u001b[0m \u001b[0mself\u001b[0m\u001b[0;34m.\u001b[0m\u001b[0m_engine\u001b[0m\u001b[0;34m.\u001b[0m\u001b[0mget_loc\u001b[0m\u001b[0;34m(\u001b[0m\u001b[0mcasted_key\u001b[0m\u001b[0;34m)\u001b[0m\u001b[0;34m\u001b[0m\u001b[0;34m\u001b[0m\u001b[0m\n\u001b[0m\u001b[1;32m   3362\u001b[0m             \u001b[0;32mexcept\u001b[0m \u001b[0mKeyError\u001b[0m \u001b[0;32mas\u001b[0m \u001b[0merr\u001b[0m\u001b[0;34m:\u001b[0m\u001b[0;34m\u001b[0m\u001b[0;34m\u001b[0m\u001b[0m\n",
      "\u001b[0;32m~/miniforge3/lib/python3.9/site-packages/pandas/_libs/index.pyx\u001b[0m in \u001b[0;36mpandas._libs.index.IndexEngine.get_loc\u001b[0;34m()\u001b[0m\n",
      "\u001b[0;32m~/miniforge3/lib/python3.9/site-packages/pandas/_libs/index.pyx\u001b[0m in \u001b[0;36mpandas._libs.index.IndexEngine.get_loc\u001b[0;34m()\u001b[0m\n",
      "\u001b[0;32mpandas/_libs/hashtable_class_helper.pxi\u001b[0m in \u001b[0;36mpandas._libs.hashtable.PyObjectHashTable.get_item\u001b[0;34m()\u001b[0m\n",
      "\u001b[0;32mpandas/_libs/hashtable_class_helper.pxi\u001b[0m in \u001b[0;36mpandas._libs.hashtable.PyObjectHashTable.get_item\u001b[0;34m()\u001b[0m\n",
      "\u001b[0;31mKeyError\u001b[0m: 'pepe'",
      "\nThe above exception was the direct cause of the following exception:\n",
      "\u001b[0;31mKeyError\u001b[0m                                  Traceback (most recent call last)",
      "\u001b[0;32m/var/folders/24/tg28vxls25l9mjvqrnh0plc80000gn/T/ipykernel_21267/2012402905.py\u001b[0m in \u001b[0;36m<module>\u001b[0;34m\u001b[0m\n\u001b[0;32m----> 1\u001b[0;31m \u001b[0mdf\u001b[0m\u001b[0;34m[\u001b[0m\u001b[0;34m'pepe'\u001b[0m\u001b[0;34m]\u001b[0m\u001b[0;34m\u001b[0m\u001b[0;34m\u001b[0m\u001b[0m\n\u001b[0m",
      "\u001b[0;32m~/miniforge3/lib/python3.9/site-packages/pandas/core/frame.py\u001b[0m in \u001b[0;36m__getitem__\u001b[0;34m(self, key)\u001b[0m\n\u001b[1;32m   3456\u001b[0m             \u001b[0;32mif\u001b[0m \u001b[0mself\u001b[0m\u001b[0;34m.\u001b[0m\u001b[0mcolumns\u001b[0m\u001b[0;34m.\u001b[0m\u001b[0mnlevels\u001b[0m \u001b[0;34m>\u001b[0m \u001b[0;36m1\u001b[0m\u001b[0;34m:\u001b[0m\u001b[0;34m\u001b[0m\u001b[0;34m\u001b[0m\u001b[0m\n\u001b[1;32m   3457\u001b[0m                 \u001b[0;32mreturn\u001b[0m \u001b[0mself\u001b[0m\u001b[0;34m.\u001b[0m\u001b[0m_getitem_multilevel\u001b[0m\u001b[0;34m(\u001b[0m\u001b[0mkey\u001b[0m\u001b[0;34m)\u001b[0m\u001b[0;34m\u001b[0m\u001b[0;34m\u001b[0m\u001b[0m\n\u001b[0;32m-> 3458\u001b[0;31m             \u001b[0mindexer\u001b[0m \u001b[0;34m=\u001b[0m \u001b[0mself\u001b[0m\u001b[0;34m.\u001b[0m\u001b[0mcolumns\u001b[0m\u001b[0;34m.\u001b[0m\u001b[0mget_loc\u001b[0m\u001b[0;34m(\u001b[0m\u001b[0mkey\u001b[0m\u001b[0;34m)\u001b[0m\u001b[0;34m\u001b[0m\u001b[0;34m\u001b[0m\u001b[0m\n\u001b[0m\u001b[1;32m   3459\u001b[0m             \u001b[0;32mif\u001b[0m \u001b[0mis_integer\u001b[0m\u001b[0;34m(\u001b[0m\u001b[0mindexer\u001b[0m\u001b[0;34m)\u001b[0m\u001b[0;34m:\u001b[0m\u001b[0;34m\u001b[0m\u001b[0;34m\u001b[0m\u001b[0m\n\u001b[1;32m   3460\u001b[0m                 \u001b[0mindexer\u001b[0m \u001b[0;34m=\u001b[0m \u001b[0;34m[\u001b[0m\u001b[0mindexer\u001b[0m\u001b[0;34m]\u001b[0m\u001b[0;34m\u001b[0m\u001b[0;34m\u001b[0m\u001b[0m\n",
      "\u001b[0;32m~/miniforge3/lib/python3.9/site-packages/pandas/core/indexes/base.py\u001b[0m in \u001b[0;36mget_loc\u001b[0;34m(self, key, method, tolerance)\u001b[0m\n\u001b[1;32m   3361\u001b[0m                 \u001b[0;32mreturn\u001b[0m \u001b[0mself\u001b[0m\u001b[0;34m.\u001b[0m\u001b[0m_engine\u001b[0m\u001b[0;34m.\u001b[0m\u001b[0mget_loc\u001b[0m\u001b[0;34m(\u001b[0m\u001b[0mcasted_key\u001b[0m\u001b[0;34m)\u001b[0m\u001b[0;34m\u001b[0m\u001b[0;34m\u001b[0m\u001b[0m\n\u001b[1;32m   3362\u001b[0m             \u001b[0;32mexcept\u001b[0m \u001b[0mKeyError\u001b[0m \u001b[0;32mas\u001b[0m \u001b[0merr\u001b[0m\u001b[0;34m:\u001b[0m\u001b[0;34m\u001b[0m\u001b[0;34m\u001b[0m\u001b[0m\n\u001b[0;32m-> 3363\u001b[0;31m                 \u001b[0;32mraise\u001b[0m \u001b[0mKeyError\u001b[0m\u001b[0;34m(\u001b[0m\u001b[0mkey\u001b[0m\u001b[0;34m)\u001b[0m \u001b[0;32mfrom\u001b[0m \u001b[0merr\u001b[0m\u001b[0;34m\u001b[0m\u001b[0;34m\u001b[0m\u001b[0m\n\u001b[0m\u001b[1;32m   3364\u001b[0m \u001b[0;34m\u001b[0m\u001b[0m\n\u001b[1;32m   3365\u001b[0m         \u001b[0;32mif\u001b[0m \u001b[0mis_scalar\u001b[0m\u001b[0;34m(\u001b[0m\u001b[0mkey\u001b[0m\u001b[0;34m)\u001b[0m \u001b[0;32mand\u001b[0m \u001b[0misna\u001b[0m\u001b[0;34m(\u001b[0m\u001b[0mkey\u001b[0m\u001b[0;34m)\u001b[0m \u001b[0;32mand\u001b[0m \u001b[0;32mnot\u001b[0m \u001b[0mself\u001b[0m\u001b[0;34m.\u001b[0m\u001b[0mhasnans\u001b[0m\u001b[0;34m:\u001b[0m\u001b[0;34m\u001b[0m\u001b[0;34m\u001b[0m\u001b[0m\n",
      "\u001b[0;31mKeyError\u001b[0m: 'pepe'"
     ]
    }
   ],
   "source": [
    "df['pepe']"
   ]
  },
  {
   "cell_type": "markdown",
   "id": "04d20ea9-d2f1-4971-8bad-7c6d2e1f594e",
   "metadata": {},
   "source": [
    "> - [ ] Is your best friends' name a `key` of the `DataFrame`?"
   ]
  },
  {
   "cell_type": "code",
   "execution_count": 175,
   "id": "663be2ff-290e-4e9c-a042-d8e294ad0ec7",
   "metadata": {},
   "outputs": [
    {
     "data": {
      "text/plain": [
       "Index(['altura', 'peso', 'edad'], dtype='object')"
      ]
     },
     "execution_count": 175,
     "metadata": {},
     "output_type": "execute_result"
    }
   ],
   "source": [
    "df.keys()"
   ]
  },
  {
   "cell_type": "markdown",
   "id": "9523dcb8-df6a-4b92-802e-a66078828bf1",
   "metadata": {},
   "source": [
    "> - [ ] How then can you access your second best friend's age?"
   ]
  },
  {
   "cell_type": "code",
   "execution_count": 176,
   "id": "780e07dd-753e-428b-8749-6e13e9824e33",
   "metadata": {},
   "outputs": [
    {
     "data": {
      "text/plain": [
       "maria    18.0\n",
       "juan     24.0\n",
       "pepe     33.0\n",
       "Name: edad, dtype: float64"
      ]
     },
     "execution_count": 176,
     "metadata": {},
     "output_type": "execute_result"
    }
   ],
   "source": [
    "df['edad']"
   ]
  },
  {
   "cell_type": "code",
   "execution_count": 177,
   "id": "b1feb86e-a3e7-48c4-b187-763534c70f08",
   "metadata": {},
   "outputs": [
    {
     "data": {
      "text/plain": [
       "33.0"
      ]
     },
     "execution_count": 177,
     "metadata": {},
     "output_type": "execute_result"
    }
   ],
   "source": [
    "df['edad']['pepe']"
   ]
  },
  {
   "cell_type": "markdown",
   "id": "d4797650-03dc-4dc5-969e-e082748db1c0",
   "metadata": {},
   "source": [
    "## Recap"
   ]
  },
  {
   "cell_type": "markdown",
   "id": "e31e0f24-54c4-47b2-ba38-5e41ed2b0418",
   "metadata": {},
   "source": [
    "### The `list`"
   ]
  },
  {
   "cell_type": "code",
   "execution_count": 178,
   "id": "b63cfc8c-3475-4d5f-a0b3-fd5567602305",
   "metadata": {},
   "outputs": [
    {
     "data": {
      "text/plain": [
       "['maria', 'pepe', 'alberto']"
      ]
     },
     "execution_count": 178,
     "metadata": {},
     "output_type": "execute_result"
    }
   ],
   "source": [
    "lista_bf"
   ]
  },
  {
   "cell_type": "code",
   "execution_count": 179,
   "id": "75ccfb20-88f0-45f9-afdc-6501aaabb7b3",
   "metadata": {},
   "outputs": [
    {
     "data": {
      "text/plain": [
       "'pepe'"
      ]
     },
     "execution_count": 179,
     "metadata": {},
     "output_type": "execute_result"
    }
   ],
   "source": [
    "lista_bf[1]"
   ]
  },
  {
   "cell_type": "markdown",
   "id": "9858f8c9-657e-491b-8673-b9615daa4a06",
   "metadata": {},
   "source": [
    "### The `dictionary`"
   ]
  },
  {
   "cell_type": "code",
   "execution_count": 180,
   "id": "f6caa5a9-6a26-4005-a734-6414d6aaf1cd",
   "metadata": {},
   "outputs": [
    {
     "data": {
      "text/plain": [
       "{'maria': {'altura': 1.78, 'peso': 54, 'edad': 18},\n",
       " 'juan': {'altura': 1.87, 'peso': 76, 'edad': 24},\n",
       " 'pepe': {'altura': 1.84, 'peso': 94, 'edad': 33}}"
      ]
     },
     "execution_count": 180,
     "metadata": {},
     "output_type": "execute_result"
    }
   ],
   "source": [
    "diccionario_bf"
   ]
  },
  {
   "cell_type": "code",
   "execution_count": 181,
   "id": "ffd60987-ebb9-4157-b1b9-09dd364d573e",
   "metadata": {},
   "outputs": [
    {
     "data": {
      "text/plain": [
       "{'altura': 1.84, 'peso': 94, 'edad': 33}"
      ]
     },
     "execution_count": 181,
     "metadata": {},
     "output_type": "execute_result"
    }
   ],
   "source": [
    "diccionario_bf['pepe']"
   ]
  },
  {
   "cell_type": "code",
   "execution_count": 182,
   "id": "47d7c3f6-4b0f-4221-8af0-5df823c04127",
   "metadata": {},
   "outputs": [
    {
     "data": {
      "text/plain": [
       "33"
      ]
     },
     "execution_count": 182,
     "metadata": {},
     "output_type": "execute_result"
    }
   ],
   "source": [
    "diccionario_bf['pepe']['edad']"
   ]
  },
  {
   "cell_type": "markdown",
   "id": "b7f0fa20-79b3-44c6-8aaa-a25f9fe59e6f",
   "metadata": {},
   "source": [
    "### The `DataFrame`"
   ]
  },
  {
   "cell_type": "code",
   "execution_count": 183,
   "id": "914bf604-521f-4eeb-8890-6c4a9ea8fdb2",
   "metadata": {},
   "outputs": [
    {
     "data": {
      "text/html": [
       "<div>\n",
       "<style scoped>\n",
       "    .dataframe tbody tr th:only-of-type {\n",
       "        vertical-align: middle;\n",
       "    }\n",
       "\n",
       "    .dataframe tbody tr th {\n",
       "        vertical-align: top;\n",
       "    }\n",
       "\n",
       "    .dataframe thead th {\n",
       "        text-align: right;\n",
       "    }\n",
       "</style>\n",
       "<table border=\"1\" class=\"dataframe\">\n",
       "  <thead>\n",
       "    <tr style=\"text-align: right;\">\n",
       "      <th></th>\n",
       "      <th>altura</th>\n",
       "      <th>peso</th>\n",
       "      <th>edad</th>\n",
       "    </tr>\n",
       "  </thead>\n",
       "  <tbody>\n",
       "    <tr>\n",
       "      <th>maria</th>\n",
       "      <td>1.78</td>\n",
       "      <td>54.0</td>\n",
       "      <td>18.0</td>\n",
       "    </tr>\n",
       "    <tr>\n",
       "      <th>juan</th>\n",
       "      <td>1.87</td>\n",
       "      <td>76.0</td>\n",
       "      <td>24.0</td>\n",
       "    </tr>\n",
       "    <tr>\n",
       "      <th>pepe</th>\n",
       "      <td>1.84</td>\n",
       "      <td>94.0</td>\n",
       "      <td>33.0</td>\n",
       "    </tr>\n",
       "  </tbody>\n",
       "</table>\n",
       "</div>"
      ],
      "text/plain": [
       "       altura  peso  edad\n",
       "maria    1.78  54.0  18.0\n",
       "juan     1.87  76.0  24.0\n",
       "pepe     1.84  94.0  33.0"
      ]
     },
     "execution_count": 183,
     "metadata": {},
     "output_type": "execute_result"
    }
   ],
   "source": [
    "df"
   ]
  },
  {
   "cell_type": "code",
   "execution_count": 184,
   "id": "74453bb4-ad98-45ec-bd47-7ac9047e5225",
   "metadata": {},
   "outputs": [
    {
     "data": {
      "text/plain": [
       "maria    18.0\n",
       "juan     24.0\n",
       "pepe     33.0\n",
       "Name: edad, dtype: float64"
      ]
     },
     "execution_count": 184,
     "metadata": {},
     "output_type": "execute_result"
    }
   ],
   "source": [
    "df['edad']"
   ]
  },
  {
   "cell_type": "code",
   "execution_count": 185,
   "id": "00ef337c-a72d-47f8-be0a-b854c0e7befb",
   "metadata": {},
   "outputs": [
    {
     "data": {
      "text/plain": [
       "33.0"
      ]
     },
     "execution_count": 185,
     "metadata": {},
     "output_type": "execute_result"
    }
   ],
   "source": [
    "df['edad']['pepe']"
   ]
  },
  {
   "cell_type": "markdown",
   "id": "1953f7f1-7ca3-41b3-8fb6-3d2a84f0b35b",
   "metadata": {},
   "source": [
    "## What the heck is a `key`?\n",
    "\n",
    "> - A `key` that opens a door to get the `values`\n",
    "> - [ ] For example, get the values contained in the `age` key"
   ]
  },
  {
   "cell_type": "code",
   "execution_count": 186,
   "id": "c257e0cf-08d3-47be-a4b6-ea02fddc6920",
   "metadata": {},
   "outputs": [
    {
     "data": {
      "text/html": [
       "<div>\n",
       "<style scoped>\n",
       "    .dataframe tbody tr th:only-of-type {\n",
       "        vertical-align: middle;\n",
       "    }\n",
       "\n",
       "    .dataframe tbody tr th {\n",
       "        vertical-align: top;\n",
       "    }\n",
       "\n",
       "    .dataframe thead th {\n",
       "        text-align: right;\n",
       "    }\n",
       "</style>\n",
       "<table border=\"1\" class=\"dataframe\">\n",
       "  <thead>\n",
       "    <tr style=\"text-align: right;\">\n",
       "      <th></th>\n",
       "      <th>internet_usage</th>\n",
       "      <th>sex</th>\n",
       "      <th>age</th>\n",
       "      <th>education</th>\n",
       "      <th>weight</th>\n",
       "    </tr>\n",
       "    <tr>\n",
       "      <th>name</th>\n",
       "      <th></th>\n",
       "      <th></th>\n",
       "      <th></th>\n",
       "      <th></th>\n",
       "      <th></th>\n",
       "    </tr>\n",
       "  </thead>\n",
       "  <tbody>\n",
       "    <tr>\n",
       "      <th>Josefina</th>\n",
       "      <td>0</td>\n",
       "      <td>Female</td>\n",
       "      <td>66</td>\n",
       "      <td>Elementary</td>\n",
       "      <td>81</td>\n",
       "    </tr>\n",
       "    <tr>\n",
       "      <th>Vicki</th>\n",
       "      <td>1</td>\n",
       "      <td>Male</td>\n",
       "      <td>72</td>\n",
       "      <td>Elementary</td>\n",
       "      <td>78</td>\n",
       "    </tr>\n",
       "    <tr>\n",
       "      <th>David</th>\n",
       "      <td>1</td>\n",
       "      <td>Male</td>\n",
       "      <td>48</td>\n",
       "      <td>University</td>\n",
       "      <td>69</td>\n",
       "    </tr>\n",
       "    <tr>\n",
       "      <th>Curtis</th>\n",
       "      <td>0</td>\n",
       "      <td>Male</td>\n",
       "      <td>59</td>\n",
       "      <td>PhD</td>\n",
       "      <td>107</td>\n",
       "    </tr>\n",
       "    <tr>\n",
       "      <th>Josephine</th>\n",
       "      <td>1</td>\n",
       "      <td>Female</td>\n",
       "      <td>44</td>\n",
       "      <td>PhD</td>\n",
       "      <td>80</td>\n",
       "    </tr>\n",
       "  </tbody>\n",
       "</table>\n",
       "</div>"
      ],
      "text/plain": [
       "           internet_usage     sex  age   education  weight\n",
       "name                                                      \n",
       "Josefina                0  Female   66  Elementary      81\n",
       "Vicki                   1    Male   72  Elementary      78\n",
       "David                   1    Male   48  University      69\n",
       "Curtis                  0    Male   59         PhD     107\n",
       "Josephine               1  Female   44         PhD      80"
      ]
     },
     "execution_count": 186,
     "metadata": {},
     "output_type": "execute_result"
    }
   ],
   "source": [
    "df = pd.read_excel('internet_usage_spain.xlsx', sheet_name=1, index_col=0)\n",
    "df.head()"
   ]
  },
  {
   "cell_type": "code",
   "execution_count": 187,
   "id": "ba21d337-32f3-4088-ae75-e17f77856dd6",
   "metadata": {},
   "outputs": [
    {
     "ename": "NameError",
     "evalue": "name 'age' is not defined",
     "output_type": "error",
     "traceback": [
      "\u001b[0;31m---------------------------------------------------------------------------\u001b[0m",
      "\u001b[0;31mNameError\u001b[0m                                 Traceback (most recent call last)",
      "\u001b[0;32m/var/folders/24/tg28vxls25l9mjvqrnh0plc80000gn/T/ipykernel_21267/1326031938.py\u001b[0m in \u001b[0;36m<module>\u001b[0;34m\u001b[0m\n\u001b[0;32m----> 1\u001b[0;31m \u001b[0mdf\u001b[0m\u001b[0;34m[\u001b[0m\u001b[0mage\u001b[0m\u001b[0;34m]\u001b[0m\u001b[0;34m\u001b[0m\u001b[0;34m\u001b[0m\u001b[0m\n\u001b[0m",
      "\u001b[0;31mNameError\u001b[0m: name 'age' is not defined"
     ]
    }
   ],
   "source": [
    "df[age]"
   ]
  },
  {
   "cell_type": "code",
   "execution_count": 188,
   "id": "ad20e729-4e59-48b2-9edd-a3dc40481fde",
   "metadata": {},
   "outputs": [
    {
     "ename": "NameError",
     "evalue": "name 'age' is not defined",
     "output_type": "error",
     "traceback": [
      "\u001b[0;31m---------------------------------------------------------------------------\u001b[0m",
      "\u001b[0;31mNameError\u001b[0m                                 Traceback (most recent call last)",
      "\u001b[0;32m/var/folders/24/tg28vxls25l9mjvqrnh0plc80000gn/T/ipykernel_21267/1733084327.py\u001b[0m in \u001b[0;36m<module>\u001b[0;34m\u001b[0m\n\u001b[0;32m----> 1\u001b[0;31m \u001b[0mage\u001b[0m\u001b[0;34m\u001b[0m\u001b[0;34m\u001b[0m\u001b[0m\n\u001b[0m",
      "\u001b[0;31mNameError\u001b[0m: name 'age' is not defined"
     ]
    }
   ],
   "source": [
    "age"
   ]
  },
  {
   "cell_type": "markdown",
   "id": "d7ee8225-ab1e-4c4e-9f80-593c291e5de2",
   "metadata": {},
   "source": [
    "`age = ?`"
   ]
  },
  {
   "cell_type": "code",
   "execution_count": 189,
   "id": "d1c12195-b16f-47a0-b1b0-f3010b443b37",
   "metadata": {},
   "outputs": [
    {
     "data": {
      "text/plain": [
       "name\n",
       "Josefina     66\n",
       "Vicki        72\n",
       "David        48\n",
       "Curtis       59\n",
       "Josephine    44\n",
       "             ..\n",
       "Frances      43\n",
       "Harry        18\n",
       "Adam         54\n",
       "Christine    31\n",
       "Kimberly     52\n",
       "Name: age, Length: 2455, dtype: int64"
      ]
     },
     "execution_count": 189,
     "metadata": {},
     "output_type": "execute_result"
    }
   ],
   "source": [
    "df['age']"
   ]
  },
  {
   "cell_type": "markdown",
   "id": "74ca8e71-3988-454a-8bda-f7016b39c96d",
   "metadata": {},
   "source": [
    "> - [ ] Access the `name` of the people"
   ]
  },
  {
   "cell_type": "code",
   "execution_count": 190,
   "id": "2d819627-5566-4832-a4be-b40d6badff77",
   "metadata": {},
   "outputs": [
    {
     "ename": "KeyError",
     "evalue": "'name'",
     "output_type": "error",
     "traceback": [
      "\u001b[0;31m---------------------------------------------------------------------------\u001b[0m",
      "\u001b[0;31mKeyError\u001b[0m                                  Traceback (most recent call last)",
      "\u001b[0;32m~/miniforge3/lib/python3.9/site-packages/pandas/core/indexes/base.py\u001b[0m in \u001b[0;36mget_loc\u001b[0;34m(self, key, method, tolerance)\u001b[0m\n\u001b[1;32m   3360\u001b[0m             \u001b[0;32mtry\u001b[0m\u001b[0;34m:\u001b[0m\u001b[0;34m\u001b[0m\u001b[0;34m\u001b[0m\u001b[0m\n\u001b[0;32m-> 3361\u001b[0;31m                 \u001b[0;32mreturn\u001b[0m \u001b[0mself\u001b[0m\u001b[0;34m.\u001b[0m\u001b[0m_engine\u001b[0m\u001b[0;34m.\u001b[0m\u001b[0mget_loc\u001b[0m\u001b[0;34m(\u001b[0m\u001b[0mcasted_key\u001b[0m\u001b[0;34m)\u001b[0m\u001b[0;34m\u001b[0m\u001b[0;34m\u001b[0m\u001b[0m\n\u001b[0m\u001b[1;32m   3362\u001b[0m             \u001b[0;32mexcept\u001b[0m \u001b[0mKeyError\u001b[0m \u001b[0;32mas\u001b[0m \u001b[0merr\u001b[0m\u001b[0;34m:\u001b[0m\u001b[0;34m\u001b[0m\u001b[0;34m\u001b[0m\u001b[0m\n",
      "\u001b[0;32m~/miniforge3/lib/python3.9/site-packages/pandas/_libs/index.pyx\u001b[0m in \u001b[0;36mpandas._libs.index.IndexEngine.get_loc\u001b[0;34m()\u001b[0m\n",
      "\u001b[0;32m~/miniforge3/lib/python3.9/site-packages/pandas/_libs/index.pyx\u001b[0m in \u001b[0;36mpandas._libs.index.IndexEngine.get_loc\u001b[0;34m()\u001b[0m\n",
      "\u001b[0;32mpandas/_libs/hashtable_class_helper.pxi\u001b[0m in \u001b[0;36mpandas._libs.hashtable.PyObjectHashTable.get_item\u001b[0;34m()\u001b[0m\n",
      "\u001b[0;32mpandas/_libs/hashtable_class_helper.pxi\u001b[0m in \u001b[0;36mpandas._libs.hashtable.PyObjectHashTable.get_item\u001b[0;34m()\u001b[0m\n",
      "\u001b[0;31mKeyError\u001b[0m: 'name'",
      "\nThe above exception was the direct cause of the following exception:\n",
      "\u001b[0;31mKeyError\u001b[0m                                  Traceback (most recent call last)",
      "\u001b[0;32m/var/folders/24/tg28vxls25l9mjvqrnh0plc80000gn/T/ipykernel_21267/1900758571.py\u001b[0m in \u001b[0;36m<module>\u001b[0;34m\u001b[0m\n\u001b[0;32m----> 1\u001b[0;31m \u001b[0mdf\u001b[0m\u001b[0;34m[\u001b[0m\u001b[0;34m'name'\u001b[0m\u001b[0;34m]\u001b[0m\u001b[0;34m\u001b[0m\u001b[0;34m\u001b[0m\u001b[0m\n\u001b[0m",
      "\u001b[0;32m~/miniforge3/lib/python3.9/site-packages/pandas/core/frame.py\u001b[0m in \u001b[0;36m__getitem__\u001b[0;34m(self, key)\u001b[0m\n\u001b[1;32m   3456\u001b[0m             \u001b[0;32mif\u001b[0m \u001b[0mself\u001b[0m\u001b[0;34m.\u001b[0m\u001b[0mcolumns\u001b[0m\u001b[0;34m.\u001b[0m\u001b[0mnlevels\u001b[0m \u001b[0;34m>\u001b[0m \u001b[0;36m1\u001b[0m\u001b[0;34m:\u001b[0m\u001b[0;34m\u001b[0m\u001b[0;34m\u001b[0m\u001b[0m\n\u001b[1;32m   3457\u001b[0m                 \u001b[0;32mreturn\u001b[0m \u001b[0mself\u001b[0m\u001b[0;34m.\u001b[0m\u001b[0m_getitem_multilevel\u001b[0m\u001b[0;34m(\u001b[0m\u001b[0mkey\u001b[0m\u001b[0;34m)\u001b[0m\u001b[0;34m\u001b[0m\u001b[0;34m\u001b[0m\u001b[0m\n\u001b[0;32m-> 3458\u001b[0;31m             \u001b[0mindexer\u001b[0m \u001b[0;34m=\u001b[0m \u001b[0mself\u001b[0m\u001b[0;34m.\u001b[0m\u001b[0mcolumns\u001b[0m\u001b[0;34m.\u001b[0m\u001b[0mget_loc\u001b[0m\u001b[0;34m(\u001b[0m\u001b[0mkey\u001b[0m\u001b[0;34m)\u001b[0m\u001b[0;34m\u001b[0m\u001b[0;34m\u001b[0m\u001b[0m\n\u001b[0m\u001b[1;32m   3459\u001b[0m             \u001b[0;32mif\u001b[0m \u001b[0mis_integer\u001b[0m\u001b[0;34m(\u001b[0m\u001b[0mindexer\u001b[0m\u001b[0;34m)\u001b[0m\u001b[0;34m:\u001b[0m\u001b[0;34m\u001b[0m\u001b[0;34m\u001b[0m\u001b[0m\n\u001b[1;32m   3460\u001b[0m                 \u001b[0mindexer\u001b[0m \u001b[0;34m=\u001b[0m \u001b[0;34m[\u001b[0m\u001b[0mindexer\u001b[0m\u001b[0;34m]\u001b[0m\u001b[0;34m\u001b[0m\u001b[0;34m\u001b[0m\u001b[0m\n",
      "\u001b[0;32m~/miniforge3/lib/python3.9/site-packages/pandas/core/indexes/base.py\u001b[0m in \u001b[0;36mget_loc\u001b[0;34m(self, key, method, tolerance)\u001b[0m\n\u001b[1;32m   3361\u001b[0m                 \u001b[0;32mreturn\u001b[0m \u001b[0mself\u001b[0m\u001b[0;34m.\u001b[0m\u001b[0m_engine\u001b[0m\u001b[0;34m.\u001b[0m\u001b[0mget_loc\u001b[0m\u001b[0;34m(\u001b[0m\u001b[0mcasted_key\u001b[0m\u001b[0;34m)\u001b[0m\u001b[0;34m\u001b[0m\u001b[0;34m\u001b[0m\u001b[0m\n\u001b[1;32m   3362\u001b[0m             \u001b[0;32mexcept\u001b[0m \u001b[0mKeyError\u001b[0m \u001b[0;32mas\u001b[0m \u001b[0merr\u001b[0m\u001b[0;34m:\u001b[0m\u001b[0;34m\u001b[0m\u001b[0;34m\u001b[0m\u001b[0m\n\u001b[0;32m-> 3363\u001b[0;31m                 \u001b[0;32mraise\u001b[0m \u001b[0mKeyError\u001b[0m\u001b[0;34m(\u001b[0m\u001b[0mkey\u001b[0m\u001b[0;34m)\u001b[0m \u001b[0;32mfrom\u001b[0m \u001b[0merr\u001b[0m\u001b[0;34m\u001b[0m\u001b[0;34m\u001b[0m\u001b[0m\n\u001b[0m\u001b[1;32m   3364\u001b[0m \u001b[0;34m\u001b[0m\u001b[0m\n\u001b[1;32m   3365\u001b[0m         \u001b[0;32mif\u001b[0m \u001b[0mis_scalar\u001b[0m\u001b[0;34m(\u001b[0m\u001b[0mkey\u001b[0m\u001b[0;34m)\u001b[0m \u001b[0;32mand\u001b[0m \u001b[0misna\u001b[0m\u001b[0;34m(\u001b[0m\u001b[0mkey\u001b[0m\u001b[0;34m)\u001b[0m \u001b[0;32mand\u001b[0m \u001b[0;32mnot\u001b[0m \u001b[0mself\u001b[0m\u001b[0;34m.\u001b[0m\u001b[0mhasnans\u001b[0m\u001b[0;34m:\u001b[0m\u001b[0;34m\u001b[0m\u001b[0;34m\u001b[0m\u001b[0m\n",
      "\u001b[0;31mKeyError\u001b[0m: 'name'"
     ]
    }
   ],
   "source": [
    "df['name']"
   ]
  },
  {
   "cell_type": "markdown",
   "id": "f9214012-8648-4ca5-80a9-6b7f243db2df",
   "metadata": {},
   "source": [
    "> - What is the error saying?\n",
    "> - [ ] Could you ask which are the `keys` for the `df`?"
   ]
  },
  {
   "cell_type": "code",
   "execution_count": 191,
   "id": "e420f417-1168-4319-93fd-2d48aaaad882",
   "metadata": {},
   "outputs": [
    {
     "data": {
      "text/html": [
       "<div>\n",
       "<style scoped>\n",
       "    .dataframe tbody tr th:only-of-type {\n",
       "        vertical-align: middle;\n",
       "    }\n",
       "\n",
       "    .dataframe tbody tr th {\n",
       "        vertical-align: top;\n",
       "    }\n",
       "\n",
       "    .dataframe thead th {\n",
       "        text-align: right;\n",
       "    }\n",
       "</style>\n",
       "<table border=\"1\" class=\"dataframe\">\n",
       "  <thead>\n",
       "    <tr style=\"text-align: right;\">\n",
       "      <th></th>\n",
       "      <th>internet_usage</th>\n",
       "      <th>sex</th>\n",
       "      <th>age</th>\n",
       "      <th>education</th>\n",
       "      <th>weight</th>\n",
       "    </tr>\n",
       "    <tr>\n",
       "      <th>name</th>\n",
       "      <th></th>\n",
       "      <th></th>\n",
       "      <th></th>\n",
       "      <th></th>\n",
       "      <th></th>\n",
       "    </tr>\n",
       "  </thead>\n",
       "  <tbody>\n",
       "    <tr>\n",
       "      <th>Josefina</th>\n",
       "      <td>0</td>\n",
       "      <td>Female</td>\n",
       "      <td>66</td>\n",
       "      <td>Elementary</td>\n",
       "      <td>81</td>\n",
       "    </tr>\n",
       "    <tr>\n",
       "      <th>Vicki</th>\n",
       "      <td>1</td>\n",
       "      <td>Male</td>\n",
       "      <td>72</td>\n",
       "      <td>Elementary</td>\n",
       "      <td>78</td>\n",
       "    </tr>\n",
       "    <tr>\n",
       "      <th>David</th>\n",
       "      <td>1</td>\n",
       "      <td>Male</td>\n",
       "      <td>48</td>\n",
       "      <td>University</td>\n",
       "      <td>69</td>\n",
       "    </tr>\n",
       "    <tr>\n",
       "      <th>Curtis</th>\n",
       "      <td>0</td>\n",
       "      <td>Male</td>\n",
       "      <td>59</td>\n",
       "      <td>PhD</td>\n",
       "      <td>107</td>\n",
       "    </tr>\n",
       "    <tr>\n",
       "      <th>Josephine</th>\n",
       "      <td>1</td>\n",
       "      <td>Female</td>\n",
       "      <td>44</td>\n",
       "      <td>PhD</td>\n",
       "      <td>80</td>\n",
       "    </tr>\n",
       "  </tbody>\n",
       "</table>\n",
       "</div>"
      ],
      "text/plain": [
       "           internet_usage     sex  age   education  weight\n",
       "name                                                      \n",
       "Josefina                0  Female   66  Elementary      81\n",
       "Vicki                   1    Male   72  Elementary      78\n",
       "David                   1    Male   48  University      69\n",
       "Curtis                  0    Male   59         PhD     107\n",
       "Josephine               1  Female   44         PhD      80"
      ]
     },
     "execution_count": 191,
     "metadata": {},
     "output_type": "execute_result"
    }
   ],
   "source": [
    "df.head() #!"
   ]
  },
  {
   "cell_type": "code",
   "execution_count": 192,
   "id": "c94aebfa-f73f-4f7c-a628-a0f91295856b",
   "metadata": {},
   "outputs": [
    {
     "data": {
      "text/plain": [
       "Index(['internet_usage', 'sex', 'age', 'education', 'weight'], dtype='object')"
      ]
     },
     "execution_count": 192,
     "metadata": {},
     "output_type": "execute_result"
    }
   ],
   "source": [
    "df.keys()"
   ]
  },
  {
   "cell_type": "markdown",
   "id": "d0a9a7c5-3533-4fa5-8b98-67956fe86f19",
   "metadata": {},
   "source": [
    "> - [ ] Which `keys` could you access then?"
   ]
  },
  {
   "cell_type": "code",
   "execution_count": 193,
   "id": "70751e35-47c9-4949-9666-5a72cdcb2d0b",
   "metadata": {},
   "outputs": [
    {
     "data": {
      "text/plain": [
       "Index(['internet_usage', 'sex', 'age', 'education', 'weight'], dtype='object')"
      ]
     },
     "execution_count": 193,
     "metadata": {},
     "output_type": "execute_result"
    }
   ],
   "source": [
    "df.columns"
   ]
  },
  {
   "cell_type": "code",
   "execution_count": 194,
   "id": "03be24fd-6db1-4328-9cc9-235b9ab96f7b",
   "metadata": {},
   "outputs": [
    {
     "data": {
      "text/plain": [
       "name\n",
       "Josefina     66\n",
       "Vicki        72\n",
       "David        48\n",
       "Curtis       59\n",
       "Josephine    44\n",
       "             ..\n",
       "Frances      43\n",
       "Harry        18\n",
       "Adam         54\n",
       "Christine    31\n",
       "Kimberly     52\n",
       "Name: age, Length: 2455, dtype: int64"
      ]
     },
     "execution_count": 194,
     "metadata": {},
     "output_type": "execute_result"
    }
   ],
   "source": [
    "df['age']"
   ]
  },
  {
   "cell_type": "markdown",
   "id": "e060f0e5-8c89-416d-8334-414e6a25982a",
   "metadata": {},
   "source": [
    "> - [ ] How could you then access the `names`?"
   ]
  },
  {
   "cell_type": "code",
   "execution_count": 195,
   "id": "8d8692fb-9b0f-4fd2-b0e8-57985e017df4",
   "metadata": {},
   "outputs": [
    {
     "data": {
      "text/html": [
       "<div>\n",
       "<style scoped>\n",
       "    .dataframe tbody tr th:only-of-type {\n",
       "        vertical-align: middle;\n",
       "    }\n",
       "\n",
       "    .dataframe tbody tr th {\n",
       "        vertical-align: top;\n",
       "    }\n",
       "\n",
       "    .dataframe thead th {\n",
       "        text-align: right;\n",
       "    }\n",
       "</style>\n",
       "<table border=\"1\" class=\"dataframe\">\n",
       "  <thead>\n",
       "    <tr style=\"text-align: right;\">\n",
       "      <th></th>\n",
       "      <th>internet_usage</th>\n",
       "      <th>sex</th>\n",
       "      <th>age</th>\n",
       "      <th>education</th>\n",
       "      <th>weight</th>\n",
       "    </tr>\n",
       "    <tr>\n",
       "      <th>name</th>\n",
       "      <th></th>\n",
       "      <th></th>\n",
       "      <th></th>\n",
       "      <th></th>\n",
       "      <th></th>\n",
       "    </tr>\n",
       "  </thead>\n",
       "  <tbody>\n",
       "    <tr>\n",
       "      <th>Josefina</th>\n",
       "      <td>0</td>\n",
       "      <td>Female</td>\n",
       "      <td>66</td>\n",
       "      <td>Elementary</td>\n",
       "      <td>81</td>\n",
       "    </tr>\n",
       "    <tr>\n",
       "      <th>Vicki</th>\n",
       "      <td>1</td>\n",
       "      <td>Male</td>\n",
       "      <td>72</td>\n",
       "      <td>Elementary</td>\n",
       "      <td>78</td>\n",
       "    </tr>\n",
       "    <tr>\n",
       "      <th>David</th>\n",
       "      <td>1</td>\n",
       "      <td>Male</td>\n",
       "      <td>48</td>\n",
       "      <td>University</td>\n",
       "      <td>69</td>\n",
       "    </tr>\n",
       "    <tr>\n",
       "      <th>Curtis</th>\n",
       "      <td>0</td>\n",
       "      <td>Male</td>\n",
       "      <td>59</td>\n",
       "      <td>PhD</td>\n",
       "      <td>107</td>\n",
       "    </tr>\n",
       "    <tr>\n",
       "      <th>Josephine</th>\n",
       "      <td>1</td>\n",
       "      <td>Female</td>\n",
       "      <td>44</td>\n",
       "      <td>PhD</td>\n",
       "      <td>80</td>\n",
       "    </tr>\n",
       "  </tbody>\n",
       "</table>\n",
       "</div>"
      ],
      "text/plain": [
       "           internet_usage     sex  age   education  weight\n",
       "name                                                      \n",
       "Josefina                0  Female   66  Elementary      81\n",
       "Vicki                   1    Male   72  Elementary      78\n",
       "David                   1    Male   48  University      69\n",
       "Curtis                  0    Male   59         PhD     107\n",
       "Josephine               1  Female   44         PhD      80"
      ]
     },
     "execution_count": 195,
     "metadata": {},
     "output_type": "execute_result"
    }
   ],
   "source": [
    "df.head() #!"
   ]
  },
  {
   "cell_type": "code",
   "execution_count": 196,
   "id": "648adbf3-f72a-4f7e-ac4a-d5a609837e14",
   "metadata": {},
   "outputs": [
    {
     "data": {
      "text/plain": [
       "Index(['Josefina', 'Vicki', 'David', 'Curtis', 'Josephine', 'Malinda', 'Fern',\n",
       "       'Sue', 'Juanita', 'Robert',\n",
       "       ...\n",
       "       'Anne', 'Ernestina', 'Jaime', 'Elsie', 'Michael', 'Frances', 'Harry',\n",
       "       'Adam', 'Christine', 'Kimberly'],\n",
       "      dtype='object', name='name', length=2455)"
      ]
     },
     "execution_count": 196,
     "metadata": {},
     "output_type": "execute_result"
    }
   ],
   "source": [
    "df.index"
   ]
  },
  {
   "cell_type": "markdown",
   "id": "5f2d5eaf-72a6-441e-8343-be2f839dccf1",
   "metadata": {},
   "source": [
    "# Disecting the Objects to Understand the Elements of Programming"
   ]
  },
  {
   "cell_type": "markdown",
   "id": "a46c9768-9978-462b-ad4a-5b2ac45c9868",
   "metadata": {},
   "source": [
    "> - Objects are **data structures** that store information. \n",
    "> - [ ] Which **syntax** do we use to access the information?"
   ]
  },
  {
   "cell_type": "markdown",
   "id": "a99f1b5b-8c05-44c0-8b89-8c0d32c68210",
   "metadata": {},
   "source": [
    "## Dot Notation `.`"
   ]
  },
  {
   "cell_type": "markdown",
   "id": "b1d0b79a-4f2c-403a-9144-b0b12c7d25f4",
   "metadata": {},
   "source": [
    "> - Show just the `age` column from `df`"
   ]
  },
  {
   "cell_type": "code",
   "execution_count": 197,
   "id": "b2cffd6c-e8d7-498b-83bf-d9a1417f324b",
   "metadata": {},
   "outputs": [
    {
     "data": {
      "text/html": [
       "<div>\n",
       "<style scoped>\n",
       "    .dataframe tbody tr th:only-of-type {\n",
       "        vertical-align: middle;\n",
       "    }\n",
       "\n",
       "    .dataframe tbody tr th {\n",
       "        vertical-align: top;\n",
       "    }\n",
       "\n",
       "    .dataframe thead th {\n",
       "        text-align: right;\n",
       "    }\n",
       "</style>\n",
       "<table border=\"1\" class=\"dataframe\">\n",
       "  <thead>\n",
       "    <tr style=\"text-align: right;\">\n",
       "      <th></th>\n",
       "      <th>internet_usage</th>\n",
       "      <th>sex</th>\n",
       "      <th>age</th>\n",
       "      <th>education</th>\n",
       "      <th>weight</th>\n",
       "    </tr>\n",
       "    <tr>\n",
       "      <th>name</th>\n",
       "      <th></th>\n",
       "      <th></th>\n",
       "      <th></th>\n",
       "      <th></th>\n",
       "      <th></th>\n",
       "    </tr>\n",
       "  </thead>\n",
       "  <tbody>\n",
       "    <tr>\n",
       "      <th>Josefina</th>\n",
       "      <td>0</td>\n",
       "      <td>Female</td>\n",
       "      <td>66</td>\n",
       "      <td>Elementary</td>\n",
       "      <td>81</td>\n",
       "    </tr>\n",
       "    <tr>\n",
       "      <th>Vicki</th>\n",
       "      <td>1</td>\n",
       "      <td>Male</td>\n",
       "      <td>72</td>\n",
       "      <td>Elementary</td>\n",
       "      <td>78</td>\n",
       "    </tr>\n",
       "    <tr>\n",
       "      <th>David</th>\n",
       "      <td>1</td>\n",
       "      <td>Male</td>\n",
       "      <td>48</td>\n",
       "      <td>University</td>\n",
       "      <td>69</td>\n",
       "    </tr>\n",
       "    <tr>\n",
       "      <th>Curtis</th>\n",
       "      <td>0</td>\n",
       "      <td>Male</td>\n",
       "      <td>59</td>\n",
       "      <td>PhD</td>\n",
       "      <td>107</td>\n",
       "    </tr>\n",
       "    <tr>\n",
       "      <th>Josephine</th>\n",
       "      <td>1</td>\n",
       "      <td>Female</td>\n",
       "      <td>44</td>\n",
       "      <td>PhD</td>\n",
       "      <td>80</td>\n",
       "    </tr>\n",
       "    <tr>\n",
       "      <th>...</th>\n",
       "      <td>...</td>\n",
       "      <td>...</td>\n",
       "      <td>...</td>\n",
       "      <td>...</td>\n",
       "      <td>...</td>\n",
       "    </tr>\n",
       "    <tr>\n",
       "      <th>Frances</th>\n",
       "      <td>1</td>\n",
       "      <td>Male</td>\n",
       "      <td>43</td>\n",
       "      <td>Elementary</td>\n",
       "      <td>94</td>\n",
       "    </tr>\n",
       "    <tr>\n",
       "      <th>Harry</th>\n",
       "      <td>1</td>\n",
       "      <td>Female</td>\n",
       "      <td>18</td>\n",
       "      <td>High School</td>\n",
       "      <td>70</td>\n",
       "    </tr>\n",
       "    <tr>\n",
       "      <th>Adam</th>\n",
       "      <td>0</td>\n",
       "      <td>Female</td>\n",
       "      <td>54</td>\n",
       "      <td>Elementary</td>\n",
       "      <td>60</td>\n",
       "    </tr>\n",
       "    <tr>\n",
       "      <th>Christine</th>\n",
       "      <td>1</td>\n",
       "      <td>Male</td>\n",
       "      <td>31</td>\n",
       "      <td>High School</td>\n",
       "      <td>89</td>\n",
       "    </tr>\n",
       "    <tr>\n",
       "      <th>Kimberly</th>\n",
       "      <td>0</td>\n",
       "      <td>Male</td>\n",
       "      <td>52</td>\n",
       "      <td>Elementary</td>\n",
       "      <td>88</td>\n",
       "    </tr>\n",
       "  </tbody>\n",
       "</table>\n",
       "<p>2455 rows × 5 columns</p>\n",
       "</div>"
      ],
      "text/plain": [
       "           internet_usage     sex  age    education  weight\n",
       "name                                                       \n",
       "Josefina                0  Female   66   Elementary      81\n",
       "Vicki                   1    Male   72   Elementary      78\n",
       "David                   1    Male   48   University      69\n",
       "Curtis                  0    Male   59          PhD     107\n",
       "Josephine               1  Female   44          PhD      80\n",
       "...                   ...     ...  ...          ...     ...\n",
       "Frances                 1    Male   43   Elementary      94\n",
       "Harry                   1  Female   18  High School      70\n",
       "Adam                    0  Female   54   Elementary      60\n",
       "Christine               1    Male   31  High School      89\n",
       "Kimberly                0    Male   52   Elementary      88\n",
       "\n",
       "[2455 rows x 5 columns]"
      ]
     },
     "execution_count": 197,
     "metadata": {},
     "output_type": "execute_result"
    }
   ],
   "source": [
    "df"
   ]
  },
  {
   "cell_type": "code",
   "execution_count": 198,
   "id": "f390059e-bec9-43e0-adc2-0c0fdc77c054",
   "metadata": {},
   "outputs": [
    {
     "data": {
      "text/plain": [
       "name\n",
       "Josefina     66\n",
       "Vicki        72\n",
       "David        48\n",
       "Curtis       59\n",
       "Josephine    44\n",
       "             ..\n",
       "Frances      43\n",
       "Harry        18\n",
       "Adam         54\n",
       "Christine    31\n",
       "Kimberly     52\n",
       "Name: age, Length: 2455, dtype: int64"
      ]
     },
     "execution_count": 198,
     "metadata": {},
     "output_type": "execute_result"
    }
   ],
   "source": [
    "df.age"
   ]
  },
  {
   "cell_type": "markdown",
   "id": "31d3c8aa-8018-41f0-831d-85edfa5b51f2",
   "metadata": {},
   "source": [
    "> - [ ] Could we **access to more information** than just the columns?"
   ]
  },
  {
   "cell_type": "code",
   "execution_count": null,
   "id": "bbfbb94e-0e11-4162-a9a2-3a532ee4b106",
   "metadata": {},
   "outputs": [],
   "source": [
    "df."
   ]
  },
  {
   "cell_type": "markdown",
   "id": "4699b326-52a2-4288-bd1a-a71c26324161",
   "metadata": {},
   "source": [
    "### The `function()`"
   ]
  },
  {
   "cell_type": "code",
   "execution_count": 48,
   "id": "ff4e4b48-d78d-4def-afda-97dd89274fd1",
   "metadata": {},
   "outputs": [
    {
     "data": {
      "text/plain": [
       "<bound method hist_frame of            internet_usage     sex  age    education  weight\n",
       "name                                                       \n",
       "Josefina                0  Female   66   Elementary      81\n",
       "Vicki                   1    Male   72   Elementary      78\n",
       "David                   1    Male   48   University      69\n",
       "Curtis                  0    Male   59          PhD     107\n",
       "Josephine               1  Female   44          PhD      80\n",
       "...                   ...     ...  ...          ...     ...\n",
       "Frances                 1    Male   43   Elementary      94\n",
       "Harry                   1  Female   18  High School      70\n",
       "Adam                    0  Female   54   Elementary      60\n",
       "Christine               1    Male   31  High School      89\n",
       "Kimberly                0    Male   52   Elementary      88\n",
       "\n",
       "[2455 rows x 5 columns]>"
      ]
     },
     "execution_count": 48,
     "metadata": {},
     "output_type": "execute_result"
    }
   ],
   "source": [
    "df.hist"
   ]
  },
  {
   "cell_type": "code",
   "execution_count": 50,
   "id": "e553f30d-d496-4828-9f7a-dba4dcaa7c42",
   "metadata": {},
   "outputs": [
    {
     "data": {
      "text/plain": [
       "array([[<AxesSubplot:title={'center':'internet_usage'}>,\n",
       "        <AxesSubplot:title={'center':'age'}>],\n",
       "       [<AxesSubplot:title={'center':'weight'}>, <AxesSubplot:>]],\n",
       "      dtype=object)"
      ]
     },
     "execution_count": 50,
     "metadata": {},
     "output_type": "execute_result"
    },
    {
     "data": {
      "image/png": "[encoded data removed]",
      "text/plain": [
       "<Figure size 432x288 with 4 Axes>"
      ]
     },
     "metadata": {
      "needs_background": "light"
     },
     "output_type": "display_data"
    }
   ],
   "source": [
    "df.hist()"
   ]
  },
  {
   "cell_type": "code",
   "execution_count": 52,
   "id": "06a08bb3-c270-4504-9b62-d304e4aae61c",
   "metadata": {},
   "outputs": [
    {
     "data": {
      "text/html": [
       "<div>\n",
       "<style scoped>\n",
       "    .dataframe tbody tr th:only-of-type {\n",
       "        vertical-align: middle;\n",
       "    }\n",
       "\n",
       "    .dataframe tbody tr th {\n",
       "        vertical-align: top;\n",
       "    }\n",
       "\n",
       "    .dataframe thead th {\n",
       "        text-align: right;\n",
       "    }\n",
       "</style>\n",
       "<table border=\"1\" class=\"dataframe\">\n",
       "  <thead>\n",
       "    <tr style=\"text-align: right;\">\n",
       "      <th></th>\n",
       "      <th>internet_usage</th>\n",
       "      <th>age</th>\n",
       "      <th>weight</th>\n",
       "    </tr>\n",
       "  </thead>\n",
       "  <tbody>\n",
       "    <tr>\n",
       "      <th>count</th>\n",
       "      <td>2455.000000</td>\n",
       "      <td>2455.000000</td>\n",
       "      <td>2455.000000</td>\n",
       "    </tr>\n",
       "    <tr>\n",
       "      <th>mean</th>\n",
       "      <td>0.535642</td>\n",
       "      <td>46.798778</td>\n",
       "      <td>74.445214</td>\n",
       "    </tr>\n",
       "    <tr>\n",
       "      <th>std</th>\n",
       "      <td>0.498830</td>\n",
       "      <td>17.824150</td>\n",
       "      <td>14.072759</td>\n",
       "    </tr>\n",
       "    <tr>\n",
       "      <th>min</th>\n",
       "      <td>0.000000</td>\n",
       "      <td>18.000000</td>\n",
       "      <td>31.000000</td>\n",
       "    </tr>\n",
       "    <tr>\n",
       "      <th>25%</th>\n",
       "      <td>0.000000</td>\n",
       "      <td>32.000000</td>\n",
       "      <td>65.000000</td>\n",
       "    </tr>\n",
       "    <tr>\n",
       "      <th>50%</th>\n",
       "      <td>1.000000</td>\n",
       "      <td>44.000000</td>\n",
       "      <td>73.000000</td>\n",
       "    </tr>\n",
       "    <tr>\n",
       "      <th>75%</th>\n",
       "      <td>1.000000</td>\n",
       "      <td>61.000000</td>\n",
       "      <td>83.000000</td>\n",
       "    </tr>\n",
       "    <tr>\n",
       "      <th>max</th>\n",
       "      <td>1.000000</td>\n",
       "      <td>95.000000</td>\n",
       "      <td>130.000000</td>\n",
       "    </tr>\n",
       "  </tbody>\n",
       "</table>\n",
       "</div>"
      ],
      "text/plain": [
       "       internet_usage          age       weight\n",
       "count     2455.000000  2455.000000  2455.000000\n",
       "mean         0.535642    46.798778    74.445214\n",
       "std          0.498830    17.824150    14.072759\n",
       "min          0.000000    18.000000    31.000000\n",
       "25%          0.000000    32.000000    65.000000\n",
       "50%          1.000000    44.000000    73.000000\n",
       "75%          1.000000    61.000000    83.000000\n",
       "max          1.000000    95.000000   130.000000"
      ]
     },
     "execution_count": 52,
     "metadata": {},
     "output_type": "execute_result"
    }
   ],
   "source": [
    "df.describe()"
   ]
  },
  {
   "cell_type": "code",
   "execution_count": 53,
   "id": "1989faf7-d6a9-4451-b2c5-ed40ece3d6cc",
   "metadata": {},
   "outputs": [
    {
     "data": {
      "text/plain": [
       "<AxesSubplot:>"
      ]
     },
     "execution_count": 53,
     "metadata": {},
     "output_type": "execute_result"
    },
    {
     "data": {
      "image/png": "[encoded data removed]",
      "text/plain": [
       "<Figure size 432x288 with 1 Axes>"
      ]
     },
     "metadata": {
      "needs_background": "light"
     },
     "output_type": "display_data"
    }
   ],
   "source": [
    "df.boxplot()"
   ]
  },
  {
   "cell_type": "markdown",
   "id": "5eac4580-5d8f-409c-bdf5-dbb55d45f426",
   "metadata": {},
   "source": [
    "### The `instance`"
   ]
  },
  {
   "cell_type": "code",
   "execution_count": 51,
   "id": "21850696-9c3a-4281-84db-65dd4d1cb409",
   "metadata": {},
   "outputs": [
    {
     "data": {
      "text/plain": [
       "12275"
      ]
     },
     "execution_count": 51,
     "metadata": {},
     "output_type": "execute_result"
    }
   ],
   "source": [
    "df.size"
   ]
  },
  {
   "cell_type": "code",
   "execution_count": 54,
   "id": "a5e67b92-ff58-4eb8-adda-fc3f3e529b1a",
   "metadata": {},
   "outputs": [
    {
     "data": {
      "text/plain": [
       "(2455, 5)"
      ]
     },
     "execution_count": 54,
     "metadata": {},
     "output_type": "execute_result"
    }
   ],
   "source": [
    "df.shape"
   ]
  },
  {
   "cell_type": "code",
   "execution_count": 55,
   "id": "7e4fc2e7-8e2d-4af1-ace0-7cd0dd935630",
   "metadata": {},
   "outputs": [
    {
     "data": {
      "text/plain": [
       "[Index(['Josefina', 'Vicki', 'David', 'Curtis', 'Josephine', 'Malinda', 'Fern',\n",
       "        'Sue', 'Juanita', 'Robert',\n",
       "        ...\n",
       "        'Anne', 'Ernestina', 'Jaime', 'Elsie', 'Michael', 'Frances', 'Harry',\n",
       "        'Adam', 'Christine', 'Kimberly'],\n",
       "       dtype='object', name='name', length=2455),\n",
       " Index(['internet_usage', 'sex', 'age', 'education', 'weight'], dtype='object')]"
      ]
     },
     "execution_count": 55,
     "metadata": {},
     "output_type": "execute_result"
    }
   ],
   "source": [
    "df.axes"
   ]
  },
  {
   "cell_type": "markdown",
   "id": "dcd9a257-0594-4fc0-92b8-a06b010b428f",
   "metadata": {},
   "source": [
    "### Recap"
   ]
  },
  {
   "cell_type": "markdown",
   "id": "109a6bce-7989-41bf-83ce-92117fc61c83",
   "metadata": {},
   "source": [
    "#### The `instance`"
   ]
  },
  {
   "cell_type": "markdown",
   "id": "d4d37ab7-5a80-412a-9b1a-a1e9cd70b183",
   "metadata": {},
   "source": [
    "The **instance** (object) may contain:\n",
    "- `function`\n",
    "- more `instance`s"
   ]
  },
  {
   "cell_type": "code",
   "execution_count": null,
   "id": "55d62c4b-836c-4196-9624-f537a5a2c5f6",
   "metadata": {},
   "outputs": [],
   "source": [
    "df."
   ]
  },
  {
   "cell_type": "code",
   "execution_count": null,
   "id": "c45c16f0-606d-4606-9762-e8c7cabf6d41",
   "metadata": {},
   "outputs": [
    {
     "data": {
      "text/plain": [
       "<bound method NDFrame.describe of            name  internet_usage     sex  age    education  weight\n",
       "0      Josefina               0  Female   66   Elementary      81\n",
       "1         Vicki               1    Male   72   Elementary      78\n",
       "2         David               1    Male   48   University      69\n",
       "3        Curtis               0    Male   59          PhD     107\n",
       "4     Josephine               1  Female   44          PhD      80\n",
       "...         ...             ...     ...  ...          ...     ...\n",
       "2450    Frances               1    Male   43   Elementary      94\n",
       "2451      Harry               1  Female   18  High School      70\n",
       "2452       Adam               0  Female   54   Elementary      60\n",
       "2453  Christine               1    Male   31  High School      89\n",
       "2454   Kimberly               0    Male   52   Elementary      88\n",
       "\n",
       "[2455 rows x 6 columns]>"
      ]
     },
     "execution_count": 53,
     "metadata": {},
     "output_type": "execute_result"
    }
   ],
   "source": [
    "df.describe"
   ]
  },
  {
   "cell_type": "code",
   "execution_count": null,
   "id": "bc5b8ca5-ab05-4f14-9692-10142ed785d0",
   "metadata": {},
   "outputs": [
    {
     "data": {
      "text/plain": [
       "(2455, 6)"
      ]
     },
     "execution_count": 54,
     "metadata": {},
     "output_type": "execute_result"
    }
   ],
   "source": [
    "df.shape"
   ]
  },
  {
   "cell_type": "code",
   "execution_count": null,
   "id": "45484f90-960c-4fb5-99bf-c08091ad711e",
   "metadata": {},
   "outputs": [],
   "source": []
  },
  {
   "cell_type": "markdown",
   "id": "70d1e40b-9491-4c10-ab9b-132bdf5ff213",
   "metadata": {},
   "source": [
    "#### The `function()`"
   ]
  },
  {
   "cell_type": "markdown",
   "id": "51d105d0-2303-4e8c-8d0e-4df8b1ae4fff",
   "metadata": {},
   "source": [
    "The **function** contains nothing\n",
    "- ` `; it's the endpoint of programming"
   ]
  },
  {
   "cell_type": "code",
   "execution_count": 56,
   "id": "784a6d30-1af3-4658-9883-b4f16da355bb",
   "metadata": {},
   "outputs": [
    {
     "ename": "NameError",
     "evalue": "name 'pandas' is not defined",
     "output_type": "error",
     "traceback": [
      "\u001b[0;31m---------------------------------------------------------------------------\u001b[0m",
      "\u001b[0;31mNameError\u001b[0m                                 Traceback (most recent call last)",
      "\u001b[0;32m/var/folders/24/tg28vxls25l9mjvqrnh0plc80000gn/T/ipykernel_21267/2769850856.py\u001b[0m in \u001b[0;36m<module>\u001b[0;34m\u001b[0m\n\u001b[0;32m----> 1\u001b[0;31m \u001b[0mpandas\u001b[0m\u001b[0;34m.\u001b[0m\u001b[0mread_csv\u001b[0m\u001b[0;34m\u001b[0m\u001b[0;34m\u001b[0m\u001b[0m\n\u001b[0m",
      "\u001b[0;31mNameError\u001b[0m: name 'pandas' is not defined"
     ]
    }
   ],
   "source": [
    "pandas.read_csv"
   ]
  },
  {
   "cell_type": "code",
   "execution_count": null,
   "id": "8a30ab26-bd7f-4721-ac83-d8b1352f7a63",
   "metadata": {},
   "outputs": [
    {
     "ename": "TypeError",
     "evalue": "read_csv() missing 1 required positional argument: 'filepath_or_buffer'",
     "output_type": "error",
     "traceback": [
      "\u001b[0;31m---------------------------------------------------------------------------\u001b[0m",
      "\u001b[0;31mTypeError\u001b[0m                                 Traceback (most recent call last)",
      "\u001b[0;32m/var/folders/24/tg28vxls25l9mjvqrnh0plc80000gn/T/ipykernel_34197/1157008400.py\u001b[0m in \u001b[0;36m<module>\u001b[0;34m\u001b[0m\n\u001b[0;32m----> 1\u001b[0;31m \u001b[0mpandas\u001b[0m\u001b[0;34m.\u001b[0m\u001b[0mread_csv\u001b[0m\u001b[0;34m(\u001b[0m\u001b[0;34m)\u001b[0m\u001b[0;34m\u001b[0m\u001b[0;34m\u001b[0m\u001b[0m\n\u001b[0m",
      "\u001b[0;32m~/miniforge3/lib/python3.9/site-packages/pandas/util/_decorators.py\u001b[0m in \u001b[0;36mwrapper\u001b[0;34m(*args, **kwargs)\u001b[0m\n\u001b[1;32m    309\u001b[0m                     \u001b[0mstacklevel\u001b[0m\u001b[0;34m=\u001b[0m\u001b[0mstacklevel\u001b[0m\u001b[0;34m,\u001b[0m\u001b[0;34m\u001b[0m\u001b[0;34m\u001b[0m\u001b[0m\n\u001b[1;32m    310\u001b[0m                 )\n\u001b[0;32m--> 311\u001b[0;31m             \u001b[0;32mreturn\u001b[0m \u001b[0mfunc\u001b[0m\u001b[0;34m(\u001b[0m\u001b[0;34m*\u001b[0m\u001b[0margs\u001b[0m\u001b[0;34m,\u001b[0m \u001b[0;34m**\u001b[0m\u001b[0mkwargs\u001b[0m\u001b[0;34m)\u001b[0m\u001b[0;34m\u001b[0m\u001b[0;34m\u001b[0m\u001b[0m\n\u001b[0m\u001b[1;32m    312\u001b[0m \u001b[0;34m\u001b[0m\u001b[0m\n\u001b[1;32m    313\u001b[0m         \u001b[0;32mreturn\u001b[0m \u001b[0mwrapper\u001b[0m\u001b[0;34m\u001b[0m\u001b[0;34m\u001b[0m\u001b[0m\n",
      "\u001b[0;31mTypeError\u001b[0m: read_csv() missing 1 required positional argument: 'filepath_or_buffer'"
     ]
    }
   ],
   "source": [
    "pandas.read_csv()"
   ]
  },
  {
   "cell_type": "code",
   "execution_count": null,
   "id": "70190060-3de6-4862-82ce-b11be3e85358",
   "metadata": {},
   "outputs": [
    {
     "ename": "SyntaxError",
     "evalue": "invalid syntax (2916990960.py, line 1)",
     "output_type": "error",
     "traceback": [
      "\u001b[0;36m  File \u001b[0;32m\"/var/folders/24/tg28vxls25l9mjvqrnh0plc80000gn/T/ipykernel_34197/2916990960.py\"\u001b[0;36m, line \u001b[0;32m1\u001b[0m\n\u001b[0;31m    pandas.read_csv.\u001b[0m\n\u001b[0m                    ^\u001b[0m\n\u001b[0;31mSyntaxError\u001b[0m\u001b[0;31m:\u001b[0m invalid syntax\n"
     ]
    }
   ],
   "source": [
    "pandas.read_csv."
   ]
  },
  {
   "cell_type": "markdown",
   "id": "63a2df32-ddf8-4b38-9317-ea53bdd06424",
   "metadata": {},
   "source": [
    "#### Library"
   ]
  },
  {
   "cell_type": "markdown",
   "id": "d75eac57-b401-4dcc-aaf0-035fa19186e4",
   "metadata": {},
   "source": [
    "The **library** may contain:\n",
    "- `module` (subfolder)\n",
    "- `function`\n",
    "- object `class` **to be created**\n",
    "- object `instance` **(object) already created**"
   ]
  },
  {
   "cell_type": "code",
   "execution_count": null,
   "id": "065a4bcc-3763-42fd-937f-503717327a37",
   "metadata": {},
   "outputs": [],
   "source": [
    "import pandas"
   ]
  },
  {
   "cell_type": "code",
   "execution_count": null,
   "id": "84f92ed3-7e65-4f42-a751-dd6bbd2c2998",
   "metadata": {},
   "outputs": [
    {
     "ename": "SyntaxError",
     "evalue": "invalid syntax (222040558.py, line 1)",
     "output_type": "error",
     "traceback": [
      "\u001b[0;36m  File \u001b[0;32m\"/var/folders/24/tg28vxls25l9mjvqrnh0plc80000gn/T/ipykernel_34197/222040558.py\"\u001b[0;36m, line \u001b[0;32m1\u001b[0m\n\u001b[0;31m    pandas.\u001b[0m\n\u001b[0m           ^\u001b[0m\n\u001b[0;31mSyntaxError\u001b[0m\u001b[0;31m:\u001b[0m invalid syntax\n"
     ]
    }
   ],
   "source": [
    "pandas."
   ]
  },
  {
   "cell_type": "code",
   "execution_count": null,
   "id": "0200cd9a-1fee-4900-a39e-5e1bee87c3a2",
   "metadata": {},
   "outputs": [
    {
     "data": {
      "text/plain": [
       "<module 'pandas.api' from '/Users/sota/miniforge3/lib/python3.9/site-packages/pandas/api/__init__.py'>"
      ]
     },
     "execution_count": 49,
     "metadata": {},
     "output_type": "execute_result"
    }
   ],
   "source": [
    "pandas.api"
   ]
  },
  {
   "cell_type": "code",
   "execution_count": null,
   "id": "f92e3328-ea22-41f3-aece-bff1405fcbd5",
   "metadata": {},
   "outputs": [
    {
     "data": {
      "text/plain": [
       "<function pandas.core.construction.array(data: 'Sequence[object] | AnyArrayLike', dtype: 'Dtype | None' = None, copy: 'bool' = True) -> 'ExtensionArray'>"
      ]
     },
     "execution_count": 51,
     "metadata": {},
     "output_type": "execute_result"
    }
   ],
   "source": [
    "pandas.array"
   ]
  },
  {
   "cell_type": "code",
   "execution_count": null,
   "id": "931309f2-3f87-4796-bde0-a2f059dfe12c",
   "metadata": {},
   "outputs": [
    {
     "data": {
      "text/plain": [
       "pandas.core.frame.DataFrame"
      ]
     },
     "execution_count": 50,
     "metadata": {},
     "output_type": "execute_result"
    }
   ],
   "source": [
    "pandas.DataFrame"
   ]
  },
  {
   "cell_type": "code",
   "execution_count": null,
   "id": "915a02bd-6320-4d4a-8591-0f2d65d7cc27",
   "metadata": {},
   "outputs": [
    {
     "data": {
      "text/plain": [
       "<pandas._config.config.CallableDynamicDoc at 0x109c7edf0>"
      ]
     },
     "execution_count": 60,
     "metadata": {},
     "output_type": "execute_result"
    }
   ],
   "source": [
    "pandas.describe_option"
   ]
  },
  {
   "cell_type": "markdown",
   "id": "30b17cd1-c84b-41a8-9d4b-10ff6c53dcf7",
   "metadata": {},
   "source": [
    "# Masking & Filtering the `DataFrame`\n",
    "\n",
    "> - [ ] **Select** elements of the `object` **based on a Condition**"
   ]
  },
  {
   "cell_type": "code",
   "execution_count": 200,
   "id": "3f83896f-4703-4029-904a-d54b3956f721",
   "metadata": {},
   "outputs": [
    {
     "data": {
      "text/html": [
       "<div>\n",
       "<style scoped>\n",
       "    .dataframe tbody tr th:only-of-type {\n",
       "        vertical-align: middle;\n",
       "    }\n",
       "\n",
       "    .dataframe tbody tr th {\n",
       "        vertical-align: top;\n",
       "    }\n",
       "\n",
       "    .dataframe thead th {\n",
       "        text-align: right;\n",
       "    }\n",
       "</style>\n",
       "<table border=\"1\" class=\"dataframe\">\n",
       "  <thead>\n",
       "    <tr style=\"text-align: right;\">\n",
       "      <th></th>\n",
       "      <th>internet_usage</th>\n",
       "      <th>sex</th>\n",
       "      <th>age</th>\n",
       "      <th>education</th>\n",
       "      <th>weight</th>\n",
       "    </tr>\n",
       "    <tr>\n",
       "      <th>name</th>\n",
       "      <th></th>\n",
       "      <th></th>\n",
       "      <th></th>\n",
       "      <th></th>\n",
       "      <th></th>\n",
       "    </tr>\n",
       "  </thead>\n",
       "  <tbody>\n",
       "    <tr>\n",
       "      <th>Josefina</th>\n",
       "      <td>0</td>\n",
       "      <td>Female</td>\n",
       "      <td>66</td>\n",
       "      <td>Elementary</td>\n",
       "      <td>81</td>\n",
       "    </tr>\n",
       "    <tr>\n",
       "      <th>Vicki</th>\n",
       "      <td>1</td>\n",
       "      <td>Male</td>\n",
       "      <td>72</td>\n",
       "      <td>Elementary</td>\n",
       "      <td>78</td>\n",
       "    </tr>\n",
       "    <tr>\n",
       "      <th>David</th>\n",
       "      <td>1</td>\n",
       "      <td>Male</td>\n",
       "      <td>48</td>\n",
       "      <td>University</td>\n",
       "      <td>69</td>\n",
       "    </tr>\n",
       "    <tr>\n",
       "      <th>Curtis</th>\n",
       "      <td>0</td>\n",
       "      <td>Male</td>\n",
       "      <td>59</td>\n",
       "      <td>PhD</td>\n",
       "      <td>107</td>\n",
       "    </tr>\n",
       "    <tr>\n",
       "      <th>Josephine</th>\n",
       "      <td>1</td>\n",
       "      <td>Female</td>\n",
       "      <td>44</td>\n",
       "      <td>PhD</td>\n",
       "      <td>80</td>\n",
       "    </tr>\n",
       "  </tbody>\n",
       "</table>\n",
       "</div>"
      ],
      "text/plain": [
       "           internet_usage     sex  age   education  weight\n",
       "name                                                      \n",
       "Josefina                0  Female   66  Elementary      81\n",
       "Vicki                   1    Male   72  Elementary      78\n",
       "David                   1    Male   48  University      69\n",
       "Curtis                  0    Male   59         PhD     107\n",
       "Josephine               1  Female   44         PhD      80"
      ]
     },
     "execution_count": 200,
     "metadata": {},
     "output_type": "execute_result"
    }
   ],
   "source": [
    "df.head() #!"
   ]
  },
  {
   "cell_type": "markdown",
   "id": "41b1b22d-c711-4b26-a351-06774cfb7f42",
   "metadata": {},
   "source": [
    "## Filter people older than 70"
   ]
  },
  {
   "cell_type": "code",
   "execution_count": null,
   "id": "5484ec4d-a66d-40b8-9511-c6723476c456",
   "metadata": {},
   "outputs": [],
   "source": []
  },
  {
   "cell_type": "markdown",
   "id": "f1bddb94-fe9e-40dd-853f-252b9f68f83d",
   "metadata": {},
   "source": [
    "## Filter people without studies"
   ]
  },
  {
   "cell_type": "code",
   "execution_count": null,
   "id": "6a809408-6521-43e2-b900-ad5390aa540d",
   "metadata": {},
   "outputs": [],
   "source": []
  },
  {
   "cell_type": "markdown",
   "id": "d21bb370-a10c-4840-bad9-18cd116e8408",
   "metadata": {},
   "source": [
    "## Filter people older than 70 and without studies"
   ]
  },
  {
   "cell_type": "code",
   "execution_count": null,
   "id": "c6f53cf4-499e-4515-9e82-5484d83ad7d5",
   "metadata": {},
   "outputs": [],
   "source": []
  },
  {
   "cell_type": "markdown",
   "id": "f1f07b3e-6b33-447d-9c1a-2d4ebced287b",
   "metadata": {},
   "source": [
    "## Filter people older than 70 or without studies"
   ]
  },
  {
   "cell_type": "code",
   "execution_count": null,
   "id": "ea1e397e-f534-4ae1-ac52-cd6a4e5ee3ac",
   "metadata": {},
   "outputs": [],
   "source": []
  }
 ],
 "metadata": {
  "kernelspec": {
   "display_name": "Python 3 (ipykernel)",
   "language": "python",
   "name": "python3"
  },
  "language_info": {
   "codemirror_mode": {
    "name": "ipython",
    "version": 3
   },
   "file_extension": ".py",
   "mimetype": "text/x-python",
   "name": "python",
   "nbconvert_exporter": "python",
   "pygments_lexer": "ipython3",
   "version": "3.9.7"
  }
 },
 "nbformat": 4,
 "nbformat_minor": 5
}
