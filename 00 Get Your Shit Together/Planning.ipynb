{
 "cells": [
  {
   "cell_type": "markdown",
   "id": "e5da47b6-5944-4129-b706-4f6f05b73ef7",
   "metadata": {},
   "source": [
    "# Planning"
   ]
  },
  {
   "cell_type": "markdown",
   "id": "35bd9e88-1255-4a49-bec6-1f1fa12eeed7",
   "metadata": {},
   "source": [
    "# Lesson 1: [ ]\n",
    "\n",
    "- **Topics:**\n",
    "    1. tal\n",
    "    2. tal\n",
    "    3. tal\n",
    "- **Task for Next Lesson:**\n",
    "    1. [ ] tal\n",
    "    2. [ ] tal\n",
    "    3. [ ] tal"
   ]
  },
  {
   "cell_type": "code",
   "execution_count": null,
   "id": "e4a0f0dc-57df-4a1c-9759-2d64c9ef134b",
   "metadata": {},
   "outputs": [],
   "source": []
  }
 ],
 "metadata": {
  "kernelspec": {
   "display_name": "Python 3 (ipykernel)",
   "language": "python",
   "name": "python3"
  },
  "language_info": {
   "codemirror_mode": {
    "name": "ipython",
    "version": 3
   },
   "file_extension": ".py",
   "mimetype": "text/x-python",
   "name": "python",
   "nbconvert_exporter": "python",
   "pygments_lexer": "ipython3",
   "version": "3.9.7"
  }
 },
 "nbformat": 4,
 "nbformat_minor": 5
}
